{
 "cells": [
  {
   "cell_type": "code",
   "execution_count": 1,
   "id": "24ccc589",
   "metadata": {
    "_cell_guid": "b1076dfc-b9ad-4769-8c92-a6c4dae69d19",
    "_uuid": "8f2839f25d086af736a60e9eeb907d3b93b6e0e5",
    "execution": {
     "iopub.execute_input": "2021-08-18T19:17:05.189523Z",
     "iopub.status.busy": "2021-08-18T19:17:05.188429Z",
     "iopub.status.idle": "2021-08-18T19:17:06.214853Z",
     "shell.execute_reply": "2021-08-18T19:17:06.215366Z",
     "shell.execute_reply.started": "2021-08-15T10:17:33.817079Z"
    },
    "papermill": {
     "duration": 1.057474,
     "end_time": "2021-08-18T19:17:06.215655",
     "exception": false,
     "start_time": "2021-08-18T19:17:05.158181",
     "status": "completed"
    },
    "tags": []
   },
   "outputs": [],
   "source": [
    "import numpy as np\n",
    "import pandas as pd\n",
    "import seaborn as sns\n",
    "import matplotlib.pyplot as plt\n",
    "%matplotlib inline\n",
    "\n",
    "import os\n",
    "for dirname, _, filenames in os.walk('/kaggle/input'):\n",
    "    for filename in filenames:\n",
    "        print(os.path.join(dirname, filename))\n"
   ]
  },
  {
   "cell_type": "code",
   "execution_count": 2,
   "id": "28373544",
   "metadata": {
    "execution": {
     "iopub.execute_input": "2021-08-18T19:17:06.271952Z",
     "iopub.status.busy": "2021-08-18T19:17:06.271326Z",
     "iopub.status.idle": "2021-08-18T19:17:06.302718Z",
     "shell.execute_reply": "2021-08-18T19:17:06.302231Z",
     "shell.execute_reply.started": "2021-08-15T10:17:34.70853Z"
    },
    "papermill": {
     "duration": 0.061149,
     "end_time": "2021-08-18T19:17:06.302885",
     "exception": false,
     "start_time": "2021-08-18T19:17:06.241736",
     "status": "completed"
    },
    "tags": []
   },
   "outputs": [],
   "source": [
    "df=pd.read_csv(r'F:\\Practice\\Water Quality Prediction/water_potability.csv')"
   ]
  },
  {
   "cell_type": "code",
   "execution_count": 3,
   "id": "c307748f",
   "metadata": {
    "execution": {
     "iopub.execute_input": "2021-08-18T19:17:06.365649Z",
     "iopub.status.busy": "2021-08-18T19:17:06.365075Z",
     "iopub.status.idle": "2021-08-18T19:17:06.385608Z",
     "shell.execute_reply": "2021-08-18T19:17:06.386138Z",
     "shell.execute_reply.started": "2021-08-15T10:17:34.744725Z"
    },
    "papermill": {
     "duration": 0.057744,
     "end_time": "2021-08-18T19:17:06.386363",
     "exception": false,
     "start_time": "2021-08-18T19:17:06.328619",
     "status": "completed"
    },
    "tags": []
   },
   "outputs": [
    {
     "data": {
      "text/html": [
       "<div>\n",
       "<style scoped>\n",
       "    .dataframe tbody tr th:only-of-type {\n",
       "        vertical-align: middle;\n",
       "    }\n",
       "\n",
       "    .dataframe tbody tr th {\n",
       "        vertical-align: top;\n",
       "    }\n",
       "\n",
       "    .dataframe thead th {\n",
       "        text-align: right;\n",
       "    }\n",
       "</style>\n",
       "<table border=\"1\" class=\"dataframe\">\n",
       "  <thead>\n",
       "    <tr style=\"text-align: right;\">\n",
       "      <th></th>\n",
       "      <th>ph</th>\n",
       "      <th>Hardness</th>\n",
       "      <th>Solids</th>\n",
       "      <th>Chloramines</th>\n",
       "      <th>Sulfate</th>\n",
       "      <th>Conductivity</th>\n",
       "      <th>Organic_carbon</th>\n",
       "      <th>Trihalomethanes</th>\n",
       "      <th>Turbidity</th>\n",
       "      <th>Potability</th>\n",
       "    </tr>\n",
       "  </thead>\n",
       "  <tbody>\n",
       "    <tr>\n",
       "      <th>0</th>\n",
       "      <td>NaN</td>\n",
       "      <td>204.890456</td>\n",
       "      <td>20791.31898</td>\n",
       "      <td>7.300212</td>\n",
       "      <td>368.516441</td>\n",
       "      <td>564.308654</td>\n",
       "      <td>10.379783</td>\n",
       "      <td>86.990970</td>\n",
       "      <td>2.963135</td>\n",
       "      <td>0</td>\n",
       "    </tr>\n",
       "    <tr>\n",
       "      <th>1</th>\n",
       "      <td>3.716080</td>\n",
       "      <td>129.422921</td>\n",
       "      <td>18630.05786</td>\n",
       "      <td>6.635246</td>\n",
       "      <td>NaN</td>\n",
       "      <td>592.885359</td>\n",
       "      <td>15.180013</td>\n",
       "      <td>56.329076</td>\n",
       "      <td>4.500656</td>\n",
       "      <td>0</td>\n",
       "    </tr>\n",
       "    <tr>\n",
       "      <th>2</th>\n",
       "      <td>8.099124</td>\n",
       "      <td>224.236259</td>\n",
       "      <td>19909.54173</td>\n",
       "      <td>9.275884</td>\n",
       "      <td>NaN</td>\n",
       "      <td>418.606213</td>\n",
       "      <td>16.868637</td>\n",
       "      <td>66.420093</td>\n",
       "      <td>3.055934</td>\n",
       "      <td>0</td>\n",
       "    </tr>\n",
       "    <tr>\n",
       "      <th>3</th>\n",
       "      <td>8.316766</td>\n",
       "      <td>214.373394</td>\n",
       "      <td>22018.41744</td>\n",
       "      <td>8.059332</td>\n",
       "      <td>356.886136</td>\n",
       "      <td>363.266516</td>\n",
       "      <td>18.436525</td>\n",
       "      <td>100.341674</td>\n",
       "      <td>4.628771</td>\n",
       "      <td>0</td>\n",
       "    </tr>\n",
       "    <tr>\n",
       "      <th>4</th>\n",
       "      <td>9.092223</td>\n",
       "      <td>181.101509</td>\n",
       "      <td>17978.98634</td>\n",
       "      <td>6.546600</td>\n",
       "      <td>310.135738</td>\n",
       "      <td>398.410813</td>\n",
       "      <td>11.558279</td>\n",
       "      <td>31.997993</td>\n",
       "      <td>4.075075</td>\n",
       "      <td>0</td>\n",
       "    </tr>\n",
       "  </tbody>\n",
       "</table>\n",
       "</div>"
      ],
      "text/plain": [
       "         ph    Hardness       Solids  Chloramines     Sulfate  Conductivity  \\\n",
       "0       NaN  204.890456  20791.31898     7.300212  368.516441    564.308654   \n",
       "1  3.716080  129.422921  18630.05786     6.635246         NaN    592.885359   \n",
       "2  8.099124  224.236259  19909.54173     9.275884         NaN    418.606213   \n",
       "3  8.316766  214.373394  22018.41744     8.059332  356.886136    363.266516   \n",
       "4  9.092223  181.101509  17978.98634     6.546600  310.135738    398.410813   \n",
       "\n",
       "   Organic_carbon  Trihalomethanes  Turbidity  Potability  \n",
       "0       10.379783        86.990970   2.963135           0  \n",
       "1       15.180013        56.329076   4.500656           0  \n",
       "2       16.868637        66.420093   3.055934           0  \n",
       "3       18.436525       100.341674   4.628771           0  \n",
       "4       11.558279        31.997993   4.075075           0  "
      ]
     },
     "execution_count": 3,
     "metadata": {},
     "output_type": "execute_result"
    }
   ],
   "source": [
    "df.head()"
   ]
  },
  {
   "cell_type": "code",
   "execution_count": 5,
   "id": "65919226",
   "metadata": {
    "execution": {
     "iopub.execute_input": "2021-08-18T19:17:06.504825Z",
     "iopub.status.busy": "2021-08-18T19:17:06.503910Z",
     "iopub.status.idle": "2021-08-18T19:17:06.531746Z",
     "shell.execute_reply": "2021-08-18T19:17:06.531280Z",
     "shell.execute_reply.started": "2021-08-15T10:17:34.773189Z"
    },
    "papermill": {
     "duration": 0.061963,
     "end_time": "2021-08-18T19:17:06.531942",
     "exception": false,
     "start_time": "2021-08-18T19:17:06.469979",
     "status": "completed"
    },
    "tags": []
   },
   "outputs": [
    {
     "data": {
      "text/plain": [
       "ph                 491\n",
       "Hardness             0\n",
       "Solids               0\n",
       "Chloramines          0\n",
       "Sulfate            781\n",
       "Conductivity         0\n",
       "Organic_carbon       0\n",
       "Trihalomethanes    162\n",
       "Turbidity            0\n",
       "Potability           0\n",
       "dtype: int64"
      ]
     },
     "execution_count": 5,
     "metadata": {},
     "output_type": "execute_result"
    }
   ],
   "source": [
    "df.isnull().sum()"
   ]
  },
  {
   "cell_type": "code",
   "execution_count": 6,
   "id": "340c42bc",
   "metadata": {
    "execution": {
     "iopub.execute_input": "2021-08-18T19:17:06.657126Z",
     "iopub.status.busy": "2021-08-18T19:17:06.656426Z",
     "iopub.status.idle": "2021-08-18T19:17:07.485026Z",
     "shell.execute_reply": "2021-08-18T19:17:07.485458Z",
     "shell.execute_reply.started": "2021-08-15T10:17:34.798749Z"
    },
    "papermill": {
     "duration": 0.87391,
     "end_time": "2021-08-18T19:17:07.485630",
     "exception": false,
     "start_time": "2021-08-18T19:17:06.611720",
     "status": "completed"
    },
    "tags": []
   },
   "outputs": [
    {
     "data": {
      "text/plain": [
       "<Axes: >"
      ]
     },
     "execution_count": 6,
     "metadata": {},
     "output_type": "execute_result"
    },
    {
     "data": {
      "image/png": "[encoded data removed]",
      "text/plain": [
       "<Figure size 900x900 with 2 Axes>"
      ]
     },
     "metadata": {},
     "output_type": "display_data"
    }
   ],
   "source": [
    "fig,ax=plt.subplots(figsize=(9,9))\n",
    "sns.heatmap(df.corr(),annot=True)"
   ]
  },
  {
   "cell_type": "code",
   "execution_count": 7,
   "id": "43d73dce",
   "metadata": {
    "execution": {
     "iopub.execute_input": "2021-08-18T19:17:07.606656Z",
     "iopub.status.busy": "2021-08-18T19:17:07.605844Z",
     "iopub.status.idle": "2021-08-18T19:17:07.609640Z",
     "shell.execute_reply": "2021-08-18T19:17:07.609150Z",
     "shell.execute_reply.started": "2021-08-15T10:17:35.689746Z"
    },
    "papermill": {
     "duration": 0.038327,
     "end_time": "2021-08-18T19:17:07.609791",
     "exception": false,
     "start_time": "2021-08-18T19:17:07.571464",
     "status": "completed"
    },
    "tags": []
   },
   "outputs": [],
   "source": [
    "df_sul=df[['Sulfate','Organic_carbon','Chloramines']]"
   ]
  },
  {
   "cell_type": "code",
   "execution_count": 8,
   "id": "459fabab",
   "metadata": {
    "execution": {
     "iopub.execute_input": "2021-08-18T19:17:07.731271Z",
     "iopub.status.busy": "2021-08-18T19:17:07.729431Z",
     "iopub.status.idle": "2021-08-18T19:17:07.734369Z",
     "shell.execute_reply": "2021-08-18T19:17:07.733828Z",
     "shell.execute_reply.started": "2021-08-15T10:17:35.697582Z"
    },
    "papermill": {
     "duration": 0.038932,
     "end_time": "2021-08-18T19:17:07.734514",
     "exception": false,
     "start_time": "2021-08-18T19:17:07.695582",
     "status": "completed"
    },
    "tags": []
   },
   "outputs": [],
   "source": [
    "df_sul=df_sul.dropna()"
   ]
  },
  {
   "cell_type": "code",
   "execution_count": 9,
   "id": "f308a4bd",
   "metadata": {
    "execution": {
     "iopub.execute_input": "2021-08-18T19:17:07.856378Z",
     "iopub.status.busy": "2021-08-18T19:17:07.855557Z",
     "iopub.status.idle": "2021-08-18T19:17:07.984987Z",
     "shell.execute_reply": "2021-08-18T19:17:07.985485Z",
     "shell.execute_reply.started": "2021-08-15T10:17:35.714101Z"
    },
    "papermill": {
     "duration": 0.164593,
     "end_time": "2021-08-18T19:17:07.985658",
     "exception": false,
     "start_time": "2021-08-18T19:17:07.821065",
     "status": "completed"
    },
    "tags": []
   },
   "outputs": [],
   "source": [
    "from sklearn.preprocessing import StandardScaler\n",
    "scaler=StandardScaler()\n",
    "scled=scaler.fit_transform(df_sul.drop('Sulfate',axis=1))"
   ]
  },
  {
   "cell_type": "code",
   "execution_count": 10,
   "id": "8dbb885b",
   "metadata": {
    "execution": {
     "iopub.execute_input": "2021-08-18T19:17:08.118267Z",
     "iopub.status.busy": "2021-08-18T19:17:08.117208Z",
     "iopub.status.idle": "2021-08-18T19:17:08.182063Z",
     "shell.execute_reply": "2021-08-18T19:17:08.181397Z",
     "shell.execute_reply.started": "2021-08-15T10:17:35.839002Z"
    },
    "papermill": {
     "duration": 0.110966,
     "end_time": "2021-08-18T19:17:08.182272",
     "exception": false,
     "start_time": "2021-08-18T19:17:08.071306",
     "status": "completed"
    },
    "tags": []
   },
   "outputs": [],
   "source": [
    "from sklearn.model_selection import train_test_split\n",
    "x_tr,x_te,y_tr,y_te=train_test_split(scled,df_sul['Sulfate'],random_state=42,test_size=0.3)"
   ]
  },
  {
   "cell_type": "code",
   "execution_count": 11,
   "id": "93342faa",
   "metadata": {
    "execution": {
     "iopub.execute_input": "2021-08-18T19:17:08.304624Z",
     "iopub.status.busy": "2021-08-18T19:17:08.303943Z",
     "iopub.status.idle": "2021-08-18T19:17:08.384510Z",
     "shell.execute_reply": "2021-08-18T19:17:08.383975Z",
     "shell.execute_reply.started": "2021-08-15T10:17:35.89167Z"
    },
    "papermill": {
     "duration": 0.113218,
     "end_time": "2021-08-18T19:17:08.384656",
     "exception": false,
     "start_time": "2021-08-18T19:17:08.271438",
     "status": "completed"
    },
    "tags": []
   },
   "outputs": [],
   "source": [
    "from sklearn.svm import SVR\n",
    "svr=SVR()"
   ]
  },
  {
   "cell_type": "code",
   "execution_count": 12,
   "id": "63c9f110",
   "metadata": {
    "execution": {
     "iopub.execute_input": "2021-08-18T19:17:08.508396Z",
     "iopub.status.busy": "2021-08-18T19:17:08.507688Z",
     "iopub.status.idle": "2021-08-18T19:17:08.510475Z",
     "shell.execute_reply": "2021-08-18T19:17:08.510922Z",
     "shell.execute_reply.started": "2021-08-15T10:17:35.965577Z"
    },
    "papermill": {
     "duration": 0.038102,
     "end_time": "2021-08-18T19:17:08.511108",
     "exception": false,
     "start_time": "2021-08-18T19:17:08.473006",
     "status": "completed"
    },
    "tags": []
   },
   "outputs": [],
   "source": [
    "from sklearn.model_selection import GridSearchCV\n",
    "param_grid={'kernel':['linear', 'poly', 'rbf', 'sigmoid'],'degree':[1,2],'gamma':['scale','auto'],'C':[1.2,1.3,1.4,1.7]}\n",
    "gs=GridSearchCV(svr,param_grid=param_grid,n_jobs=-1,cv=3,verbose=3)"
   ]
  },
  {
   "cell_type": "code",
   "execution_count": 14,
   "id": "61857dca",
   "metadata": {
    "execution": {
     "iopub.execute_input": "2021-08-18T19:17:08.631802Z",
     "iopub.status.busy": "2021-08-18T19:17:08.631189Z",
     "iopub.status.idle": "2021-08-18T19:17:18.044857Z",
     "shell.execute_reply": "2021-08-18T19:17:18.044305Z",
     "shell.execute_reply.started": "2021-08-15T10:17:35.971996Z"
    },
    "papermill": {
     "duration": 9.44694,
     "end_time": "2021-08-18T19:17:18.044999",
     "exception": false,
     "start_time": "2021-08-18T19:17:08.598059",
     "status": "completed"
    },
    "tags": []
   },
   "outputs": [
    {
     "name": "stdout",
     "output_type": "stream",
     "text": [
      "Fitting 3 folds for each of 64 candidates, totalling 192 fits\n"
     ]
    }
   ],
   "source": [
    "gs.fit(x_tr,y_tr)\n",
    "sul_pr=gs.predict(x_te)"
   ]
  },
  {
   "cell_type": "code",
   "execution_count": 15,
   "id": "9a18a98c",
   "metadata": {
    "execution": {
     "iopub.execute_input": "2021-08-18T19:17:18.181410Z",
     "iopub.status.busy": "2021-08-18T19:17:18.180453Z",
     "iopub.status.idle": "2021-08-18T19:17:18.259426Z",
     "shell.execute_reply": "2021-08-18T19:17:18.258823Z",
     "shell.execute_reply.started": "2021-08-15T10:17:45.587808Z"
    },
    "papermill": {
     "duration": 0.119316,
     "end_time": "2021-08-18T19:17:18.259571",
     "exception": false,
     "start_time": "2021-08-18T19:17:18.140255",
     "status": "completed"
    },
    "tags": []
   },
   "outputs": [],
   "source": [
    "sulfatee=gs.predict(scaler.fit_transform(df[['Organic_carbon','Chloramines']]))"
   ]
  },
  {
   "cell_type": "code",
   "execution_count": 16,
   "id": "898f1216",
   "metadata": {
    "execution": {
     "iopub.execute_input": "2021-08-18T19:17:18.390350Z",
     "iopub.status.busy": "2021-08-18T19:17:18.389685Z",
     "iopub.status.idle": "2021-08-18T19:17:18.391407Z",
     "shell.execute_reply": "2021-08-18T19:17:18.391834Z",
     "shell.execute_reply.started": "2021-08-15T10:17:45.643933Z"
    },
    "papermill": {
     "duration": 0.0379,
     "end_time": "2021-08-18T19:17:18.392014",
     "exception": false,
     "start_time": "2021-08-18T19:17:18.354114",
     "status": "completed"
    },
    "tags": []
   },
   "outputs": [],
   "source": [
    "df['sulfatee']=sulfatee"
   ]
  },
  {
   "cell_type": "code",
   "execution_count": 17,
   "id": "da4baa23",
   "metadata": {
    "execution": {
     "iopub.execute_input": "2021-08-18T19:17:18.515551Z",
     "iopub.status.busy": "2021-08-18T19:17:18.514910Z",
     "iopub.status.idle": "2021-08-18T19:17:18.521363Z",
     "shell.execute_reply": "2021-08-18T19:17:18.520683Z",
     "shell.execute_reply.started": "2021-08-15T10:17:45.648945Z"
    },
    "papermill": {
     "duration": 0.039061,
     "end_time": "2021-08-18T19:17:18.521507",
     "exception": false,
     "start_time": "2021-08-18T19:17:18.482446",
     "status": "completed"
    },
    "tags": []
   },
   "outputs": [],
   "source": [
    "df.drop('Sulfate',axis=1,inplace=True)"
   ]
  },
  {
   "cell_type": "code",
   "execution_count": 18,
   "id": "381b3b4e",
   "metadata": {
    "execution": {
     "iopub.execute_input": "2021-08-18T19:17:18.650291Z",
     "iopub.status.busy": "2021-08-18T19:17:18.649576Z",
     "iopub.status.idle": "2021-08-18T19:17:30.542948Z",
     "shell.execute_reply": "2021-08-18T19:17:30.542375Z",
     "shell.execute_reply.started": "2021-08-15T10:17:45.662408Z"
    },
    "papermill": {
     "duration": 11.931073,
     "end_time": "2021-08-18T19:17:30.543109",
     "exception": false,
     "start_time": "2021-08-18T19:17:18.612036",
     "status": "completed"
    },
    "tags": []
   },
   "outputs": [
    {
     "name": "stdout",
     "output_type": "stream",
     "text": [
      "Fitting 3 folds for each of 64 candidates, totalling 192 fits\n"
     ]
    },
    {
     "data": {
      "text/html": [
       "<style>#sk-container-id-1 {\n",
       "  /* Definition of color scheme common for light and dark mode */\n",
       "  --sklearn-color-text: #000;\n",
       "  --sklearn-color-text-muted: #666;\n",
       "  --sklearn-color-line: gray;\n",
       "  /* Definition of color scheme for unfitted estimators */\n",
       "  --sklearn-color-unfitted-level-0: #fff5e6;\n",
       "  --sklearn-color-unfitted-level-1: #f6e4d2;\n",
       "  --sklearn-color-unfitted-level-2: #ffe0b3;\n",
       "  --sklearn-color-unfitted-level-3: chocolate;\n",
       "  /* Definition of color scheme for fitted estimators */\n",
       "  --sklearn-color-fitted-level-0: #f0f8ff;\n",
       "  --sklearn-color-fitted-level-1: #d4ebff;\n",
       "  --sklearn-color-fitted-level-2: #b3dbfd;\n",
       "  --sklearn-color-fitted-level-3: cornflowerblue;\n",
       "\n",
       "  /* Specific color for light theme */\n",
       "  --sklearn-color-text-on-default-background: var(--sg-text-color, var(--theme-code-foreground, var(--jp-content-font-color1, black)));\n",
       "  --sklearn-color-background: var(--sg-background-color, var(--theme-background, var(--jp-layout-color0, white)));\n",
       "  --sklearn-color-border-box: var(--sg-text-color, var(--theme-code-foreground, var(--jp-content-font-color1, black)));\n",
       "  --sklearn-color-icon: #696969;\n",
       "\n",
       "  @media (prefers-color-scheme: dark) {\n",
       "    /* Redefinition of color scheme for dark theme */\n",
       "    --sklearn-color-text-on-default-background: var(--sg-text-color, var(--theme-code-foreground, var(--jp-content-font-color1, white)));\n",
       "    --sklearn-color-background: var(--sg-background-color, var(--theme-background, var(--jp-layout-color0, #111)));\n",
       "    --sklearn-color-border-box: var(--sg-text-color, var(--theme-code-foreground, var(--jp-content-font-color1, white)));\n",
       "    --sklearn-color-icon: #878787;\n",
       "  }\n",
       "}\n",
       "\n",
       "#sk-container-id-1 {\n",
       "  color: var(--sklearn-color-text);\n",
       "}\n",
       "\n",
       "#sk-container-id-1 pre {\n",
       "  padding: 0;\n",
       "}\n",
       "\n",
       "#sk-container-id-1 input.sk-hidden--visually {\n",
       "  border: 0;\n",
       "  clip: rect(1px 1px 1px 1px);\n",
       "  clip: rect(1px, 1px, 1px, 1px);\n",
       "  height: 1px;\n",
       "  margin: -1px;\n",
       "  overflow: hidden;\n",
       "  padding: 0;\n",
       "  position: absolute;\n",
       "  width: 1px;\n",
       "}\n",
       "\n",
       "#sk-container-id-1 div.sk-dashed-wrapped {\n",
       "  border: 1px dashed var(--sklearn-color-line);\n",
       "  margin: 0 0.4em 0.5em 0.4em;\n",
       "  box-sizing: border-box;\n",
       "  padding-bottom: 0.4em;\n",
       "  background-color: var(--sklearn-color-background);\n",
       "}\n",
       "\n",
       "#sk-container-id-1 div.sk-container {\n",
       "  /* jupyter's `normalize.less` sets `[hidden] { display: none; }`\n",
       "     but bootstrap.min.css set `[hidden] { display: none !important; }`\n",
       "     so we also need the `!important` here to be able to override the\n",
       "     default hidden behavior on the sphinx rendered scikit-learn.org.\n",
       "     See: https://github.com/scikit-learn/scikit-learn/issues/21755 */\n",
       "  display: inline-block !important;\n",
       "  position: relative;\n",
       "}\n",
       "\n",
       "#sk-container-id-1 div.sk-text-repr-fallback {\n",
       "  display: none;\n",
       "}\n",
       "\n",
       "div.sk-parallel-item,\n",
       "div.sk-serial,\n",
       "div.sk-item {\n",
       "  /* draw centered vertical line to link estimators */\n",
       "  background-image: linear-gradient(var(--sklearn-color-text-on-default-background), var(--sklearn-color-text-on-default-background));\n",
       "  background-size: 2px 100%;\n",
       "  background-repeat: no-repeat;\n",
       "  background-position: center center;\n",
       "}\n",
       "\n",
       "/* Parallel-specific style estimator block */\n",
       "\n",
       "#sk-container-id-1 div.sk-parallel-item::after {\n",
       "  content: \"\";\n",
       "  width: 100%;\n",
       "  border-bottom: 2px solid var(--sklearn-color-text-on-default-background);\n",
       "  flex-grow: 1;\n",
       "}\n",
       "\n",
       "#sk-container-id-1 div.sk-parallel {\n",
       "  display: flex;\n",
       "  align-items: stretch;\n",
       "  justify-content: center;\n",
       "  background-color: var(--sklearn-color-background);\n",
       "  position: relative;\n",
       "}\n",
       "\n",
       "#sk-container-id-1 div.sk-parallel-item {\n",
       "  display: flex;\n",
       "  flex-direction: column;\n",
       "}\n",
       "\n",
       "#sk-container-id-1 div.sk-parallel-item:first-child::after {\n",
       "  align-self: flex-end;\n",
       "  width: 50%;\n",
       "}\n",
       "\n",
       "#sk-container-id-1 div.sk-parallel-item:last-child::after {\n",
       "  align-self: flex-start;\n",
       "  width: 50%;\n",
       "}\n",
       "\n",
       "#sk-container-id-1 div.sk-parallel-item:only-child::after {\n",
       "  width: 0;\n",
       "}\n",
       "\n",
       "/* Serial-specific style estimator block */\n",
       "\n",
       "#sk-container-id-1 div.sk-serial {\n",
       "  display: flex;\n",
       "  flex-direction: column;\n",
       "  align-items: center;\n",
       "  background-color: var(--sklearn-color-background);\n",
       "  padding-right: 1em;\n",
       "  padding-left: 1em;\n",
       "}\n",
       "\n",
       "\n",
       "/* Toggleable style: style used for estimator/Pipeline/ColumnTransformer box that is\n",
       "clickable and can be expanded/collapsed.\n",
       "- Pipeline and ColumnTransformer use this feature and define the default style\n",
       "- Estimators will overwrite some part of the style using the `sk-estimator` class\n",
       "*/\n",
       "\n",
       "/* Pipeline and ColumnTransformer style (default) */\n",
       "\n",
       "#sk-container-id-1 div.sk-toggleable {\n",
       "  /* Default theme specific background. It is overwritten whether we have a\n",
       "  specific estimator or a Pipeline/ColumnTransformer */\n",
       "  background-color: var(--sklearn-color-background);\n",
       "}\n",
       "\n",
       "/* Toggleable label */\n",
       "#sk-container-id-1 label.sk-toggleable__label {\n",
       "  cursor: pointer;\n",
       "  display: flex;\n",
       "  width: 100%;\n",
       "  margin-bottom: 0;\n",
       "  padding: 0.5em;\n",
       "  box-sizing: border-box;\n",
       "  text-align: center;\n",
       "  align-items: start;\n",
       "  justify-content: space-between;\n",
       "  gap: 0.5em;\n",
       "}\n",
       "\n",
       "#sk-container-id-1 label.sk-toggleable__label .caption {\n",
       "  font-size: 0.6rem;\n",
       "  font-weight: lighter;\n",
       "  color: var(--sklearn-color-text-muted);\n",
       "}\n",
       "\n",
       "#sk-container-id-1 label.sk-toggleable__label-arrow:before {\n",
       "  /* Arrow on the left of the label */\n",
       "  content: \"▸\";\n",
       "  float: left;\n",
       "  margin-right: 0.25em;\n",
       "  color: var(--sklearn-color-icon);\n",
       "}\n",
       "\n",
       "#sk-container-id-1 label.sk-toggleable__label-arrow:hover:before {\n",
       "  color: var(--sklearn-color-text);\n",
       "}\n",
       "\n",
       "/* Toggleable content - dropdown */\n",
       "\n",
       "#sk-container-id-1 div.sk-toggleable__content {\n",
       "  max-height: 0;\n",
       "  max-width: 0;\n",
       "  overflow: hidden;\n",
       "  text-align: left;\n",
       "  /* unfitted */\n",
       "  background-color: var(--sklearn-color-unfitted-level-0);\n",
       "}\n",
       "\n",
       "#sk-container-id-1 div.sk-toggleable__content.fitted {\n",
       "  /* fitted */\n",
       "  background-color: var(--sklearn-color-fitted-level-0);\n",
       "}\n",
       "\n",
       "#sk-container-id-1 div.sk-toggleable__content pre {\n",
       "  margin: 0.2em;\n",
       "  border-radius: 0.25em;\n",
       "  color: var(--sklearn-color-text);\n",
       "  /* unfitted */\n",
       "  background-color: var(--sklearn-color-unfitted-level-0);\n",
       "}\n",
       "\n",
       "#sk-container-id-1 div.sk-toggleable__content.fitted pre {\n",
       "  /* unfitted */\n",
       "  background-color: var(--sklearn-color-fitted-level-0);\n",
       "}\n",
       "\n",
       "#sk-container-id-1 input.sk-toggleable__control:checked~div.sk-toggleable__content {\n",
       "  /* Expand drop-down */\n",
       "  max-height: 200px;\n",
       "  max-width: 100%;\n",
       "  overflow: auto;\n",
       "}\n",
       "\n",
       "#sk-container-id-1 input.sk-toggleable__control:checked~label.sk-toggleable__label-arrow:before {\n",
       "  content: \"▾\";\n",
       "}\n",
       "\n",
       "/* Pipeline/ColumnTransformer-specific style */\n",
       "\n",
       "#sk-container-id-1 div.sk-label input.sk-toggleable__control:checked~label.sk-toggleable__label {\n",
       "  color: var(--sklearn-color-text);\n",
       "  background-color: var(--sklearn-color-unfitted-level-2);\n",
       "}\n",
       "\n",
       "#sk-container-id-1 div.sk-label.fitted input.sk-toggleable__control:checked~label.sk-toggleable__label {\n",
       "  background-color: var(--sklearn-color-fitted-level-2);\n",
       "}\n",
       "\n",
       "/* Estimator-specific style */\n",
       "\n",
       "/* Colorize estimator box */\n",
       "#sk-container-id-1 div.sk-estimator input.sk-toggleable__control:checked~label.sk-toggleable__label {\n",
       "  /* unfitted */\n",
       "  background-color: var(--sklearn-color-unfitted-level-2);\n",
       "}\n",
       "\n",
       "#sk-container-id-1 div.sk-estimator.fitted input.sk-toggleable__control:checked~label.sk-toggleable__label {\n",
       "  /* fitted */\n",
       "  background-color: var(--sklearn-color-fitted-level-2);\n",
       "}\n",
       "\n",
       "#sk-container-id-1 div.sk-label label.sk-toggleable__label,\n",
       "#sk-container-id-1 div.sk-label label {\n",
       "  /* The background is the default theme color */\n",
       "  color: var(--sklearn-color-text-on-default-background);\n",
       "}\n",
       "\n",
       "/* On hover, darken the color of the background */\n",
       "#sk-container-id-1 div.sk-label:hover label.sk-toggleable__label {\n",
       "  color: var(--sklearn-color-text);\n",
       "  background-color: var(--sklearn-color-unfitted-level-2);\n",
       "}\n",
       "\n",
       "/* Label box, darken color on hover, fitted */\n",
       "#sk-container-id-1 div.sk-label.fitted:hover label.sk-toggleable__label.fitted {\n",
       "  color: var(--sklearn-color-text);\n",
       "  background-color: var(--sklearn-color-fitted-level-2);\n",
       "}\n",
       "\n",
       "/* Estimator label */\n",
       "\n",
       "#sk-container-id-1 div.sk-label label {\n",
       "  font-family: monospace;\n",
       "  font-weight: bold;\n",
       "  display: inline-block;\n",
       "  line-height: 1.2em;\n",
       "}\n",
       "\n",
       "#sk-container-id-1 div.sk-label-container {\n",
       "  text-align: center;\n",
       "}\n",
       "\n",
       "/* Estimator-specific */\n",
       "#sk-container-id-1 div.sk-estimator {\n",
       "  font-family: monospace;\n",
       "  border: 1px dotted var(--sklearn-color-border-box);\n",
       "  border-radius: 0.25em;\n",
       "  box-sizing: border-box;\n",
       "  margin-bottom: 0.5em;\n",
       "  /* unfitted */\n",
       "  background-color: var(--sklearn-color-unfitted-level-0);\n",
       "}\n",
       "\n",
       "#sk-container-id-1 div.sk-estimator.fitted {\n",
       "  /* fitted */\n",
       "  background-color: var(--sklearn-color-fitted-level-0);\n",
       "}\n",
       "\n",
       "/* on hover */\n",
       "#sk-container-id-1 div.sk-estimator:hover {\n",
       "  /* unfitted */\n",
       "  background-color: var(--sklearn-color-unfitted-level-2);\n",
       "}\n",
       "\n",
       "#sk-container-id-1 div.sk-estimator.fitted:hover {\n",
       "  /* fitted */\n",
       "  background-color: var(--sklearn-color-fitted-level-2);\n",
       "}\n",
       "\n",
       "/* Specification for estimator info (e.g. \"i\" and \"?\") */\n",
       "\n",
       "/* Common style for \"i\" and \"?\" */\n",
       "\n",
       ".sk-estimator-doc-link,\n",
       "a:link.sk-estimator-doc-link,\n",
       "a:visited.sk-estimator-doc-link {\n",
       "  float: right;\n",
       "  font-size: smaller;\n",
       "  line-height: 1em;\n",
       "  font-family: monospace;\n",
       "  background-color: var(--sklearn-color-background);\n",
       "  border-radius: 1em;\n",
       "  height: 1em;\n",
       "  width: 1em;\n",
       "  text-decoration: none !important;\n",
       "  margin-left: 0.5em;\n",
       "  text-align: center;\n",
       "  /* unfitted */\n",
       "  border: var(--sklearn-color-unfitted-level-1) 1pt solid;\n",
       "  color: var(--sklearn-color-unfitted-level-1);\n",
       "}\n",
       "\n",
       ".sk-estimator-doc-link.fitted,\n",
       "a:link.sk-estimator-doc-link.fitted,\n",
       "a:visited.sk-estimator-doc-link.fitted {\n",
       "  /* fitted */\n",
       "  border: var(--sklearn-color-fitted-level-1) 1pt solid;\n",
       "  color: var(--sklearn-color-fitted-level-1);\n",
       "}\n",
       "\n",
       "/* On hover */\n",
       "div.sk-estimator:hover .sk-estimator-doc-link:hover,\n",
       ".sk-estimator-doc-link:hover,\n",
       "div.sk-label-container:hover .sk-estimator-doc-link:hover,\n",
       ".sk-estimator-doc-link:hover {\n",
       "  /* unfitted */\n",
       "  background-color: var(--sklearn-color-unfitted-level-3);\n",
       "  color: var(--sklearn-color-background);\n",
       "  text-decoration: none;\n",
       "}\n",
       "\n",
       "div.sk-estimator.fitted:hover .sk-estimator-doc-link.fitted:hover,\n",
       ".sk-estimator-doc-link.fitted:hover,\n",
       "div.sk-label-container:hover .sk-estimator-doc-link.fitted:hover,\n",
       ".sk-estimator-doc-link.fitted:hover {\n",
       "  /* fitted */\n",
       "  background-color: var(--sklearn-color-fitted-level-3);\n",
       "  color: var(--sklearn-color-background);\n",
       "  text-decoration: none;\n",
       "}\n",
       "\n",
       "/* Span, style for the box shown on hovering the info icon */\n",
       ".sk-estimator-doc-link span {\n",
       "  display: none;\n",
       "  z-index: 9999;\n",
       "  position: relative;\n",
       "  font-weight: normal;\n",
       "  right: .2ex;\n",
       "  padding: .5ex;\n",
       "  margin: .5ex;\n",
       "  width: min-content;\n",
       "  min-width: 20ex;\n",
       "  max-width: 50ex;\n",
       "  color: var(--sklearn-color-text);\n",
       "  box-shadow: 2pt 2pt 4pt #999;\n",
       "  /* unfitted */\n",
       "  background: var(--sklearn-color-unfitted-level-0);\n",
       "  border: .5pt solid var(--sklearn-color-unfitted-level-3);\n",
       "}\n",
       "\n",
       ".sk-estimator-doc-link.fitted span {\n",
       "  /* fitted */\n",
       "  background: var(--sklearn-color-fitted-level-0);\n",
       "  border: var(--sklearn-color-fitted-level-3);\n",
       "}\n",
       "\n",
       ".sk-estimator-doc-link:hover span {\n",
       "  display: block;\n",
       "}\n",
       "\n",
       "/* \"?\"-specific style due to the `<a>` HTML tag */\n",
       "\n",
       "#sk-container-id-1 a.estimator_doc_link {\n",
       "  float: right;\n",
       "  font-size: 1rem;\n",
       "  line-height: 1em;\n",
       "  font-family: monospace;\n",
       "  background-color: var(--sklearn-color-background);\n",
       "  border-radius: 1rem;\n",
       "  height: 1rem;\n",
       "  width: 1rem;\n",
       "  text-decoration: none;\n",
       "  /* unfitted */\n",
       "  color: var(--sklearn-color-unfitted-level-1);\n",
       "  border: var(--sklearn-color-unfitted-level-1) 1pt solid;\n",
       "}\n",
       "\n",
       "#sk-container-id-1 a.estimator_doc_link.fitted {\n",
       "  /* fitted */\n",
       "  border: var(--sklearn-color-fitted-level-1) 1pt solid;\n",
       "  color: var(--sklearn-color-fitted-level-1);\n",
       "}\n",
       "\n",
       "/* On hover */\n",
       "#sk-container-id-1 a.estimator_doc_link:hover {\n",
       "  /* unfitted */\n",
       "  background-color: var(--sklearn-color-unfitted-level-3);\n",
       "  color: var(--sklearn-color-background);\n",
       "  text-decoration: none;\n",
       "}\n",
       "\n",
       "#sk-container-id-1 a.estimator_doc_link.fitted:hover {\n",
       "  /* fitted */\n",
       "  background-color: var(--sklearn-color-fitted-level-3);\n",
       "}\n",
       "</style><div id=\"sk-container-id-1\" class=\"sk-top-container\"><div class=\"sk-text-repr-fallback\"><pre>GridSearchCV(cv=3, estimator=SVR(), n_jobs=-1,\n",
       "             param_grid={&#x27;C&#x27;: [1.2, 1.3, 1.4, 1.7], &#x27;degree&#x27;: [1, 2],\n",
       "                         &#x27;gamma&#x27;: [&#x27;scale&#x27;, &#x27;auto&#x27;],\n",
       "                         &#x27;kernel&#x27;: [&#x27;linear&#x27;, &#x27;poly&#x27;, &#x27;rbf&#x27;, &#x27;sigmoid&#x27;]},\n",
       "             verbose=3)</pre><b>In a Jupyter environment, please rerun this cell to show the HTML representation or trust the notebook. <br />On GitHub, the HTML representation is unable to render, please try loading this page with nbviewer.org.</b></div><div class=\"sk-container\" hidden><div class=\"sk-item sk-dashed-wrapped\"><div class=\"sk-label-container\"><div class=\"sk-label fitted sk-toggleable\"><input class=\"sk-toggleable__control sk-hidden--visually\" id=\"sk-estimator-id-1\" type=\"checkbox\" ><label for=\"sk-estimator-id-1\" class=\"sk-toggleable__label fitted sk-toggleable__label-arrow\"><div><div>GridSearchCV</div></div><div><a class=\"sk-estimator-doc-link fitted\" rel=\"noreferrer\" target=\"_blank\" href=\"https://scikit-learn.org/1.6/modules/generated/sklearn.model_selection.GridSearchCV.html\">?<span>Documentation for GridSearchCV</span></a><span class=\"sk-estimator-doc-link fitted\">i<span>Fitted</span></span></div></label><div class=\"sk-toggleable__content fitted\"><pre>GridSearchCV(cv=3, estimator=SVR(), n_jobs=-1,\n",
       "             param_grid={&#x27;C&#x27;: [1.2, 1.3, 1.4, 1.7], &#x27;degree&#x27;: [1, 2],\n",
       "                         &#x27;gamma&#x27;: [&#x27;scale&#x27;, &#x27;auto&#x27;],\n",
       "                         &#x27;kernel&#x27;: [&#x27;linear&#x27;, &#x27;poly&#x27;, &#x27;rbf&#x27;, &#x27;sigmoid&#x27;]},\n",
       "             verbose=3)</pre></div> </div></div><div class=\"sk-parallel\"><div class=\"sk-parallel-item\"><div class=\"sk-item\"><div class=\"sk-label-container\"><div class=\"sk-label fitted sk-toggleable\"><input class=\"sk-toggleable__control sk-hidden--visually\" id=\"sk-estimator-id-2\" type=\"checkbox\" ><label for=\"sk-estimator-id-2\" class=\"sk-toggleable__label fitted sk-toggleable__label-arrow\"><div><div>best_estimator_: SVR</div></div></label><div class=\"sk-toggleable__content fitted\"><pre>SVR(C=1.4, degree=1, gamma=&#x27;auto&#x27;, kernel=&#x27;poly&#x27;)</pre></div> </div></div><div class=\"sk-serial\"><div class=\"sk-item\"><div class=\"sk-estimator fitted sk-toggleable\"><input class=\"sk-toggleable__control sk-hidden--visually\" id=\"sk-estimator-id-3\" type=\"checkbox\" ><label for=\"sk-estimator-id-3\" class=\"sk-toggleable__label fitted sk-toggleable__label-arrow\"><div><div>SVR</div></div><div><a class=\"sk-estimator-doc-link fitted\" rel=\"noreferrer\" target=\"_blank\" href=\"https://scikit-learn.org/1.6/modules/generated/sklearn.svm.SVR.html\">?<span>Documentation for SVR</span></a></div></label><div class=\"sk-toggleable__content fitted\"><pre>SVR(C=1.4, degree=1, gamma=&#x27;auto&#x27;, kernel=&#x27;poly&#x27;)</pre></div> </div></div></div></div></div></div></div></div></div>"
      ],
      "text/plain": [
       "GridSearchCV(cv=3, estimator=SVR(), n_jobs=-1,\n",
       "             param_grid={'C': [1.2, 1.3, 1.4, 1.7], 'degree': [1, 2],\n",
       "                         'gamma': ['scale', 'auto'],\n",
       "                         'kernel': ['linear', 'poly', 'rbf', 'sigmoid']},\n",
       "             verbose=3)"
      ]
     },
     "execution_count": 18,
     "metadata": {},
     "output_type": "execute_result"
    }
   ],
   "source": [
    "tr_df=df[['Chloramines','Conductivity','Potability','Trihalomethanes']]\n",
    "tr_df=tr_df.dropna()\n",
    "tr_sc=scaler.fit_transform(tr_df.drop('Trihalomethanes',axis=1))\n",
    "tr_tr,tr_te,ytr_tr,yte_te=train_test_split(tr_sc,tr_df['Trihalomethanes'],random_state=42,test_size=0.3)\n",
    "gs.fit(tr_tr,ytr_tr)"
   ]
  },
  {
   "cell_type": "code",
   "execution_count": 19,
   "id": "cdd4d072",
   "metadata": {
    "execution": {
     "iopub.execute_input": "2021-08-18T19:17:30.673918Z",
     "iopub.status.busy": "2021-08-18T19:17:30.673316Z",
     "iopub.status.idle": "2021-08-18T19:17:30.738850Z",
     "shell.execute_reply": "2021-08-18T19:17:30.738302Z",
     "shell.execute_reply.started": "2021-08-15T10:17:56.953138Z"
    },
    "papermill": {
     "duration": 0.103664,
     "end_time": "2021-08-18T19:17:30.739062",
     "exception": false,
     "start_time": "2021-08-18T19:17:30.635398",
     "status": "completed"
    },
    "tags": []
   },
   "outputs": [],
   "source": [
    "trr=gs.predict(scaler.fit_transform(df[['Chloramines','Conductivity','Potability']]))"
   ]
  },
  {
   "cell_type": "code",
   "execution_count": 20,
   "id": "88da9d06",
   "metadata": {
    "execution": {
     "iopub.execute_input": "2021-08-18T19:17:30.869234Z",
     "iopub.status.busy": "2021-08-18T19:17:30.868605Z",
     "iopub.status.idle": "2021-08-18T19:17:30.871530Z",
     "shell.execute_reply": "2021-08-18T19:17:30.872016Z",
     "shell.execute_reply.started": "2021-08-15T10:17:57.023647Z"
    },
    "papermill": {
     "duration": 0.039606,
     "end_time": "2021-08-18T19:17:30.872202",
     "exception": false,
     "start_time": "2021-08-18T19:17:30.832596",
     "status": "completed"
    },
    "tags": []
   },
   "outputs": [],
   "source": [
    "df['trr']=trr\n",
    "df.drop('Trihalomethanes',axis=1,inplace=True)"
   ]
  },
  {
   "cell_type": "code",
   "execution_count": 21,
   "id": "9968a80f",
   "metadata": {
    "execution": {
     "iopub.execute_input": "2021-08-18T19:17:30.999605Z",
     "iopub.status.busy": "2021-08-18T19:17:30.999050Z",
     "iopub.status.idle": "2021-08-18T19:17:42.944137Z",
     "shell.execute_reply": "2021-08-18T19:17:42.944624Z",
     "shell.execute_reply.started": "2021-08-15T10:17:57.032398Z"
    },
    "papermill": {
     "duration": 11.979583,
     "end_time": "2021-08-18T19:17:42.944851",
     "exception": false,
     "start_time": "2021-08-18T19:17:30.965268",
     "status": "completed"
    },
    "tags": []
   },
   "outputs": [
    {
     "name": "stderr",
     "output_type": "stream",
     "text": [
      "C:\\Users\\Delhi Murali\\AppData\\Local\\Temp\\ipykernel_26092\\232393435.py:2: SettingWithCopyWarning: \n",
      "A value is trying to be set on a copy of a slice from a DataFrame\n",
      "\n",
      "See the caveats in the documentation: https://pandas.pydata.org/pandas-docs/stable/user_guide/indexing.html#returning-a-view-versus-a-copy\n",
      "  ph_df.dropna(inplace=True)\n"
     ]
    },
    {
     "name": "stdout",
     "output_type": "stream",
     "text": [
      "Fitting 3 folds for each of 64 candidates, totalling 192 fits\n"
     ]
    },
    {
     "name": "stderr",
     "output_type": "stream",
     "text": [
      "c:\\Users\\Delhi Murali\\AppData\\Local\\Programs\\Python\\Python313\\Lib\\site-packages\\sklearn\\utils\\validation.py:2732: UserWarning: X has feature names, but SVR was fitted without feature names\n",
      "  warnings.warn(\n"
     ]
    }
   ],
   "source": [
    "ph_df=df[['ph','Hardness','sulfatee','Conductivity','Organic_carbon','trr']]\n",
    "ph_df.dropna(inplace=True)\n",
    "ph_sc=scaler.fit_transform(ph_df.drop('ph',axis=1))\n",
    "x_tr,x_te,y_tr,y_te=train_test_split(ph_sc,ph_df['ph'],random_state=42,test_size=0.3)\n",
    "gs.fit(x_tr,y_tr)\n",
    "phh=gs.predict(df[['Hardness','sulfatee','Conductivity','Organic_carbon','trr']])\n",
    "df['phh']=phh\n",
    "df.drop('ph',axis=1,inplace=True)"
   ]
  },
  {
   "cell_type": "code",
   "execution_count": 22,
   "id": "b37b02e9",
   "metadata": {
    "execution": {
     "iopub.execute_input": "2021-08-18T19:17:43.098358Z",
     "iopub.status.busy": "2021-08-18T19:17:43.097517Z",
     "iopub.status.idle": "2021-08-18T19:17:43.100987Z",
     "shell.execute_reply": "2021-08-18T19:17:43.101439Z",
     "shell.execute_reply.started": "2021-08-15T10:18:08.022622Z"
    },
    "papermill": {
     "duration": 0.053775,
     "end_time": "2021-08-18T19:17:43.101607",
     "exception": false,
     "start_time": "2021-08-18T19:17:43.047832",
     "status": "completed"
    },
    "tags": []
   },
   "outputs": [
    {
     "data": {
      "text/html": [
       "<div>\n",
       "<style scoped>\n",
       "    .dataframe tbody tr th:only-of-type {\n",
       "        vertical-align: middle;\n",
       "    }\n",
       "\n",
       "    .dataframe tbody tr th {\n",
       "        vertical-align: top;\n",
       "    }\n",
       "\n",
       "    .dataframe thead th {\n",
       "        text-align: right;\n",
       "    }\n",
       "</style>\n",
       "<table border=\"1\" class=\"dataframe\">\n",
       "  <thead>\n",
       "    <tr style=\"text-align: right;\">\n",
       "      <th></th>\n",
       "      <th>Hardness</th>\n",
       "      <th>Solids</th>\n",
       "      <th>Chloramines</th>\n",
       "      <th>Conductivity</th>\n",
       "      <th>Organic_carbon</th>\n",
       "      <th>Turbidity</th>\n",
       "      <th>Potability</th>\n",
       "      <th>sulfatee</th>\n",
       "      <th>trr</th>\n",
       "      <th>phh</th>\n",
       "    </tr>\n",
       "  </thead>\n",
       "  <tbody>\n",
       "    <tr>\n",
       "      <th>0</th>\n",
       "      <td>204.890456</td>\n",
       "      <td>20791.31898</td>\n",
       "      <td>7.300212</td>\n",
       "      <td>564.308654</td>\n",
       "      <td>10.379783</td>\n",
       "      <td>2.963135</td>\n",
       "      <td>0</td>\n",
       "      <td>335.408046</td>\n",
       "      <td>65.776040</td>\n",
       "      <td>-16.521473</td>\n",
       "    </tr>\n",
       "    <tr>\n",
       "      <th>1</th>\n",
       "      <td>129.422921</td>\n",
       "      <td>18630.05786</td>\n",
       "      <td>6.635246</td>\n",
       "      <td>592.885359</td>\n",
       "      <td>15.180013</td>\n",
       "      <td>4.500656</td>\n",
       "      <td>0</td>\n",
       "      <td>334.885293</td>\n",
       "      <td>65.547686</td>\n",
       "      <td>-39.729812</td>\n",
       "    </tr>\n",
       "    <tr>\n",
       "      <th>2</th>\n",
       "      <td>224.236259</td>\n",
       "      <td>19909.54173</td>\n",
       "      <td>9.275884</td>\n",
       "      <td>418.606213</td>\n",
       "      <td>16.868637</td>\n",
       "      <td>3.055934</td>\n",
       "      <td>0</td>\n",
       "      <td>332.929247</td>\n",
       "      <td>66.708050</td>\n",
       "      <td>5.541052</td>\n",
       "    </tr>\n",
       "    <tr>\n",
       "      <th>3</th>\n",
       "      <td>214.373394</td>\n",
       "      <td>22018.41744</td>\n",
       "      <td>8.059332</td>\n",
       "      <td>363.266516</td>\n",
       "      <td>18.436525</td>\n",
       "      <td>4.628771</td>\n",
       "      <td>0</td>\n",
       "      <td>335.032645</td>\n",
       "      <td>66.739087</td>\n",
       "      <td>9.368774</td>\n",
       "    </tr>\n",
       "    <tr>\n",
       "      <th>4</th>\n",
       "      <td>181.101509</td>\n",
       "      <td>17978.98634</td>\n",
       "      <td>6.546600</td>\n",
       "      <td>398.410813</td>\n",
       "      <td>11.558279</td>\n",
       "      <td>4.075075</td>\n",
       "      <td>0</td>\n",
       "      <td>335.020897</td>\n",
       "      <td>66.344148</td>\n",
       "      <td>-3.645914</td>\n",
       "    </tr>\n",
       "  </tbody>\n",
       "</table>\n",
       "</div>"
      ],
      "text/plain": [
       "     Hardness       Solids  Chloramines  Conductivity  Organic_carbon  \\\n",
       "0  204.890456  20791.31898     7.300212    564.308654       10.379783   \n",
       "1  129.422921  18630.05786     6.635246    592.885359       15.180013   \n",
       "2  224.236259  19909.54173     9.275884    418.606213       16.868637   \n",
       "3  214.373394  22018.41744     8.059332    363.266516       18.436525   \n",
       "4  181.101509  17978.98634     6.546600    398.410813       11.558279   \n",
       "\n",
       "   Turbidity  Potability    sulfatee        trr        phh  \n",
       "0   2.963135           0  335.408046  65.776040 -16.521473  \n",
       "1   4.500656           0  334.885293  65.547686 -39.729812  \n",
       "2   3.055934           0  332.929247  66.708050   5.541052  \n",
       "3   4.628771           0  335.032645  66.739087   9.368774  \n",
       "4   4.075075           0  335.020897  66.344148  -3.645914  "
      ]
     },
     "execution_count": 22,
     "metadata": {},
     "output_type": "execute_result"
    }
   ],
   "source": [
    "df.head()"
   ]
  },
  {
   "cell_type": "code",
   "execution_count": 23,
   "id": "6b7ba6f5",
   "metadata": {
    "execution": {
     "iopub.execute_input": "2021-08-18T19:17:43.179700Z",
     "iopub.status.busy": "2021-08-18T19:17:43.178890Z",
     "iopub.status.idle": "2021-08-18T19:17:43.182779Z",
     "shell.execute_reply": "2021-08-18T19:17:43.183237Z",
     "shell.execute_reply.started": "2021-08-15T10:18:08.039773Z"
    },
    "papermill": {
     "duration": 0.047521,
     "end_time": "2021-08-18T19:17:43.183411",
     "exception": false,
     "start_time": "2021-08-18T19:17:43.135890",
     "status": "completed"
    },
    "tags": []
   },
   "outputs": [
    {
     "data": {
      "text/plain": [
       "Hardness          0\n",
       "Solids            0\n",
       "Chloramines       0\n",
       "Conductivity      0\n",
       "Organic_carbon    0\n",
       "Turbidity         0\n",
       "Potability        0\n",
       "sulfatee          0\n",
       "trr               0\n",
       "phh               0\n",
       "dtype: int64"
      ]
     },
     "execution_count": 23,
     "metadata": {},
     "output_type": "execute_result"
    }
   ],
   "source": [
    "df.isnull().sum()"
   ]
  },
  {
   "cell_type": "code",
   "execution_count": 24,
   "id": "2b80ddae",
   "metadata": {
    "execution": {
     "iopub.execute_input": "2021-08-18T19:17:43.326584Z",
     "iopub.status.busy": "2021-08-18T19:17:43.325685Z",
     "iopub.status.idle": "2021-08-18T19:17:43.328809Z",
     "shell.execute_reply": "2021-08-18T19:17:43.328167Z",
     "shell.execute_reply.started": "2021-08-15T10:18:08.055754Z"
    },
    "papermill": {
     "duration": 0.042629,
     "end_time": "2021-08-18T19:17:43.328972",
     "exception": false,
     "start_time": "2021-08-18T19:17:43.286343",
     "status": "completed"
    },
    "tags": []
   },
   "outputs": [],
   "source": [
    "from sklearn.svm import SVC\n",
    "svc=SVC()\n",
    "param_grid={'C':[1.2,1.5,2.2,3.5,3.2,4.1],'kernel':['linear', 'poly', 'rbf', 'sigmoid'],'degree':[1,2,4,8,10],'gamma':['scale','auto']}\n",
    "gridsearch=GridSearchCV(svc,param_grid=param_grid,n_jobs=-1,verbose=4,cv=3)"
   ]
  },
  {
   "cell_type": "code",
   "execution_count": 25,
   "id": "97e36cbc",
   "metadata": {
    "execution": {
     "iopub.execute_input": "2021-08-18T19:17:43.465744Z",
     "iopub.status.busy": "2021-08-18T19:17:43.465141Z",
     "iopub.status.idle": "2021-08-18T19:17:43.475146Z",
     "shell.execute_reply": "2021-08-18T19:17:43.474433Z",
     "shell.execute_reply.started": "2021-08-15T10:18:08.063329Z"
    },
    "papermill": {
     "duration": 0.046181,
     "end_time": "2021-08-18T19:17:43.475293",
     "exception": false,
     "start_time": "2021-08-18T19:17:43.429112",
     "status": "completed"
    },
    "tags": []
   },
   "outputs": [],
   "source": [
    "scaled_x=scaler.fit_transform(df.drop('Potability',axis=1))"
   ]
  },
  {
   "cell_type": "code",
   "execution_count": 26,
   "id": "cd9faf52",
   "metadata": {
    "execution": {
     "iopub.execute_input": "2021-08-18T19:17:43.613889Z",
     "iopub.status.busy": "2021-08-18T19:17:43.613072Z",
     "iopub.status.idle": "2021-08-18T19:17:43.617031Z",
     "shell.execute_reply": "2021-08-18T19:17:43.616419Z",
     "shell.execute_reply.started": "2021-08-15T10:18:08.082685Z"
    },
    "papermill": {
     "duration": 0.042032,
     "end_time": "2021-08-18T19:17:43.617176",
     "exception": false,
     "start_time": "2021-08-18T19:17:43.575144",
     "status": "completed"
    },
    "tags": []
   },
   "outputs": [],
   "source": [
    "x_tr,x_te,y_tr,y_te=train_test_split(scaled_x,df['Potability'],random_state=42,test_size=0.3)"
   ]
  },
  {
   "cell_type": "code",
   "execution_count": 27,
   "id": "9f81cf5a",
   "metadata": {
    "execution": {
     "iopub.execute_input": "2021-08-18T19:17:43.689614Z",
     "iopub.status.busy": "2021-08-18T19:17:43.689030Z",
     "iopub.status.idle": "2021-08-18T19:17:43.693344Z",
     "shell.execute_reply": "2021-08-18T19:17:43.692535Z",
     "shell.execute_reply.started": "2021-08-15T10:18:08.09176Z"
    },
    "papermill": {
     "duration": 0.0424,
     "end_time": "2021-08-18T19:17:43.693504",
     "exception": false,
     "start_time": "2021-08-18T19:17:43.651104",
     "status": "completed"
    },
    "tags": []
   },
   "outputs": [
    {
     "data": {
      "text/plain": [
       "((2293, 9), (2293,))"
      ]
     },
     "execution_count": 27,
     "metadata": {},
     "output_type": "execute_result"
    }
   ],
   "source": [
    "x_tr.shape,y_tr.shape"
   ]
  },
  {
   "cell_type": "code",
   "execution_count": 28,
   "id": "af8aa74d",
   "metadata": {
    "execution": {
     "iopub.execute_input": "2021-08-18T19:17:43.833639Z",
     "iopub.status.busy": "2021-08-18T19:17:43.832974Z",
     "iopub.status.idle": "2021-08-18T19:18:06.178231Z",
     "shell.execute_reply": "2021-08-18T19:18:06.178716Z",
     "shell.execute_reply.started": "2021-08-15T10:18:08.099883Z"
    },
    "papermill": {
     "duration": 22.382577,
     "end_time": "2021-08-18T19:18:06.178959",
     "exception": false,
     "start_time": "2021-08-18T19:17:43.796382",
     "status": "completed"
    },
    "tags": []
   },
   "outputs": [
    {
     "name": "stdout",
     "output_type": "stream",
     "text": [
      "Fitting 3 folds for each of 240 candidates, totalling 720 fits\n"
     ]
    },
    {
     "data": {
      "text/html": [
       "<style>#sk-container-id-2 {\n",
       "  /* Definition of color scheme common for light and dark mode */\n",
       "  --sklearn-color-text: #000;\n",
       "  --sklearn-color-text-muted: #666;\n",
       "  --sklearn-color-line: gray;\n",
       "  /* Definition of color scheme for unfitted estimators */\n",
       "  --sklearn-color-unfitted-level-0: #fff5e6;\n",
       "  --sklearn-color-unfitted-level-1: #f6e4d2;\n",
       "  --sklearn-color-unfitted-level-2: #ffe0b3;\n",
       "  --sklearn-color-unfitted-level-3: chocolate;\n",
       "  /* Definition of color scheme for fitted estimators */\n",
       "  --sklearn-color-fitted-level-0: #f0f8ff;\n",
       "  --sklearn-color-fitted-level-1: #d4ebff;\n",
       "  --sklearn-color-fitted-level-2: #b3dbfd;\n",
       "  --sklearn-color-fitted-level-3: cornflowerblue;\n",
       "\n",
       "  /* Specific color for light theme */\n",
       "  --sklearn-color-text-on-default-background: var(--sg-text-color, var(--theme-code-foreground, var(--jp-content-font-color1, black)));\n",
       "  --sklearn-color-background: var(--sg-background-color, var(--theme-background, var(--jp-layout-color0, white)));\n",
       "  --sklearn-color-border-box: var(--sg-text-color, var(--theme-code-foreground, var(--jp-content-font-color1, black)));\n",
       "  --sklearn-color-icon: #696969;\n",
       "\n",
       "  @media (prefers-color-scheme: dark) {\n",
       "    /* Redefinition of color scheme for dark theme */\n",
       "    --sklearn-color-text-on-default-background: var(--sg-text-color, var(--theme-code-foreground, var(--jp-content-font-color1, white)));\n",
       "    --sklearn-color-background: var(--sg-background-color, var(--theme-background, var(--jp-layout-color0, #111)));\n",
       "    --sklearn-color-border-box: var(--sg-text-color, var(--theme-code-foreground, var(--jp-content-font-color1, white)));\n",
       "    --sklearn-color-icon: #878787;\n",
       "  }\n",
       "}\n",
       "\n",
       "#sk-container-id-2 {\n",
       "  color: var(--sklearn-color-text);\n",
       "}\n",
       "\n",
       "#sk-container-id-2 pre {\n",
       "  padding: 0;\n",
       "}\n",
       "\n",
       "#sk-container-id-2 input.sk-hidden--visually {\n",
       "  border: 0;\n",
       "  clip: rect(1px 1px 1px 1px);\n",
       "  clip: rect(1px, 1px, 1px, 1px);\n",
       "  height: 1px;\n",
       "  margin: -1px;\n",
       "  overflow: hidden;\n",
       "  padding: 0;\n",
       "  position: absolute;\n",
       "  width: 1px;\n",
       "}\n",
       "\n",
       "#sk-container-id-2 div.sk-dashed-wrapped {\n",
       "  border: 1px dashed var(--sklearn-color-line);\n",
       "  margin: 0 0.4em 0.5em 0.4em;\n",
       "  box-sizing: border-box;\n",
       "  padding-bottom: 0.4em;\n",
       "  background-color: var(--sklearn-color-background);\n",
       "}\n",
       "\n",
       "#sk-container-id-2 div.sk-container {\n",
       "  /* jupyter's `normalize.less` sets `[hidden] { display: none; }`\n",
       "     but bootstrap.min.css set `[hidden] { display: none !important; }`\n",
       "     so we also need the `!important` here to be able to override the\n",
       "     default hidden behavior on the sphinx rendered scikit-learn.org.\n",
       "     See: https://github.com/scikit-learn/scikit-learn/issues/21755 */\n",
       "  display: inline-block !important;\n",
       "  position: relative;\n",
       "}\n",
       "\n",
       "#sk-container-id-2 div.sk-text-repr-fallback {\n",
       "  display: none;\n",
       "}\n",
       "\n",
       "div.sk-parallel-item,\n",
       "div.sk-serial,\n",
       "div.sk-item {\n",
       "  /* draw centered vertical line to link estimators */\n",
       "  background-image: linear-gradient(var(--sklearn-color-text-on-default-background), var(--sklearn-color-text-on-default-background));\n",
       "  background-size: 2px 100%;\n",
       "  background-repeat: no-repeat;\n",
       "  background-position: center center;\n",
       "}\n",
       "\n",
       "/* Parallel-specific style estimator block */\n",
       "\n",
       "#sk-container-id-2 div.sk-parallel-item::after {\n",
       "  content: \"\";\n",
       "  width: 100%;\n",
       "  border-bottom: 2px solid var(--sklearn-color-text-on-default-background);\n",
       "  flex-grow: 1;\n",
       "}\n",
       "\n",
       "#sk-container-id-2 div.sk-parallel {\n",
       "  display: flex;\n",
       "  align-items: stretch;\n",
       "  justify-content: center;\n",
       "  background-color: var(--sklearn-color-background);\n",
       "  position: relative;\n",
       "}\n",
       "\n",
       "#sk-container-id-2 div.sk-parallel-item {\n",
       "  display: flex;\n",
       "  flex-direction: column;\n",
       "}\n",
       "\n",
       "#sk-container-id-2 div.sk-parallel-item:first-child::after {\n",
       "  align-self: flex-end;\n",
       "  width: 50%;\n",
       "}\n",
       "\n",
       "#sk-container-id-2 div.sk-parallel-item:last-child::after {\n",
       "  align-self: flex-start;\n",
       "  width: 50%;\n",
       "}\n",
       "\n",
       "#sk-container-id-2 div.sk-parallel-item:only-child::after {\n",
       "  width: 0;\n",
       "}\n",
       "\n",
       "/* Serial-specific style estimator block */\n",
       "\n",
       "#sk-container-id-2 div.sk-serial {\n",
       "  display: flex;\n",
       "  flex-direction: column;\n",
       "  align-items: center;\n",
       "  background-color: var(--sklearn-color-background);\n",
       "  padding-right: 1em;\n",
       "  padding-left: 1em;\n",
       "}\n",
       "\n",
       "\n",
       "/* Toggleable style: style used for estimator/Pipeline/ColumnTransformer box that is\n",
       "clickable and can be expanded/collapsed.\n",
       "- Pipeline and ColumnTransformer use this feature and define the default style\n",
       "- Estimators will overwrite some part of the style using the `sk-estimator` class\n",
       "*/\n",
       "\n",
       "/* Pipeline and ColumnTransformer style (default) */\n",
       "\n",
       "#sk-container-id-2 div.sk-toggleable {\n",
       "  /* Default theme specific background. It is overwritten whether we have a\n",
       "  specific estimator or a Pipeline/ColumnTransformer */\n",
       "  background-color: var(--sklearn-color-background);\n",
       "}\n",
       "\n",
       "/* Toggleable label */\n",
       "#sk-container-id-2 label.sk-toggleable__label {\n",
       "  cursor: pointer;\n",
       "  display: flex;\n",
       "  width: 100%;\n",
       "  margin-bottom: 0;\n",
       "  padding: 0.5em;\n",
       "  box-sizing: border-box;\n",
       "  text-align: center;\n",
       "  align-items: start;\n",
       "  justify-content: space-between;\n",
       "  gap: 0.5em;\n",
       "}\n",
       "\n",
       "#sk-container-id-2 label.sk-toggleable__label .caption {\n",
       "  font-size: 0.6rem;\n",
       "  font-weight: lighter;\n",
       "  color: var(--sklearn-color-text-muted);\n",
       "}\n",
       "\n",
       "#sk-container-id-2 label.sk-toggleable__label-arrow:before {\n",
       "  /* Arrow on the left of the label */\n",
       "  content: \"▸\";\n",
       "  float: left;\n",
       "  margin-right: 0.25em;\n",
       "  color: var(--sklearn-color-icon);\n",
       "}\n",
       "\n",
       "#sk-container-id-2 label.sk-toggleable__label-arrow:hover:before {\n",
       "  color: var(--sklearn-color-text);\n",
       "}\n",
       "\n",
       "/* Toggleable content - dropdown */\n",
       "\n",
       "#sk-container-id-2 div.sk-toggleable__content {\n",
       "  max-height: 0;\n",
       "  max-width: 0;\n",
       "  overflow: hidden;\n",
       "  text-align: left;\n",
       "  /* unfitted */\n",
       "  background-color: var(--sklearn-color-unfitted-level-0);\n",
       "}\n",
       "\n",
       "#sk-container-id-2 div.sk-toggleable__content.fitted {\n",
       "  /* fitted */\n",
       "  background-color: var(--sklearn-color-fitted-level-0);\n",
       "}\n",
       "\n",
       "#sk-container-id-2 div.sk-toggleable__content pre {\n",
       "  margin: 0.2em;\n",
       "  border-radius: 0.25em;\n",
       "  color: var(--sklearn-color-text);\n",
       "  /* unfitted */\n",
       "  background-color: var(--sklearn-color-unfitted-level-0);\n",
       "}\n",
       "\n",
       "#sk-container-id-2 div.sk-toggleable__content.fitted pre {\n",
       "  /* unfitted */\n",
       "  background-color: var(--sklearn-color-fitted-level-0);\n",
       "}\n",
       "\n",
       "#sk-container-id-2 input.sk-toggleable__control:checked~div.sk-toggleable__content {\n",
       "  /* Expand drop-down */\n",
       "  max-height: 200px;\n",
       "  max-width: 100%;\n",
       "  overflow: auto;\n",
       "}\n",
       "\n",
       "#sk-container-id-2 input.sk-toggleable__control:checked~label.sk-toggleable__label-arrow:before {\n",
       "  content: \"▾\";\n",
       "}\n",
       "\n",
       "/* Pipeline/ColumnTransformer-specific style */\n",
       "\n",
       "#sk-container-id-2 div.sk-label input.sk-toggleable__control:checked~label.sk-toggleable__label {\n",
       "  color: var(--sklearn-color-text);\n",
       "  background-color: var(--sklearn-color-unfitted-level-2);\n",
       "}\n",
       "\n",
       "#sk-container-id-2 div.sk-label.fitted input.sk-toggleable__control:checked~label.sk-toggleable__label {\n",
       "  background-color: var(--sklearn-color-fitted-level-2);\n",
       "}\n",
       "\n",
       "/* Estimator-specific style */\n",
       "\n",
       "/* Colorize estimator box */\n",
       "#sk-container-id-2 div.sk-estimator input.sk-toggleable__control:checked~label.sk-toggleable__label {\n",
       "  /* unfitted */\n",
       "  background-color: var(--sklearn-color-unfitted-level-2);\n",
       "}\n",
       "\n",
       "#sk-container-id-2 div.sk-estimator.fitted input.sk-toggleable__control:checked~label.sk-toggleable__label {\n",
       "  /* fitted */\n",
       "  background-color: var(--sklearn-color-fitted-level-2);\n",
       "}\n",
       "\n",
       "#sk-container-id-2 div.sk-label label.sk-toggleable__label,\n",
       "#sk-container-id-2 div.sk-label label {\n",
       "  /* The background is the default theme color */\n",
       "  color: var(--sklearn-color-text-on-default-background);\n",
       "}\n",
       "\n",
       "/* On hover, darken the color of the background */\n",
       "#sk-container-id-2 div.sk-label:hover label.sk-toggleable__label {\n",
       "  color: var(--sklearn-color-text);\n",
       "  background-color: var(--sklearn-color-unfitted-level-2);\n",
       "}\n",
       "\n",
       "/* Label box, darken color on hover, fitted */\n",
       "#sk-container-id-2 div.sk-label.fitted:hover label.sk-toggleable__label.fitted {\n",
       "  color: var(--sklearn-color-text);\n",
       "  background-color: var(--sklearn-color-fitted-level-2);\n",
       "}\n",
       "\n",
       "/* Estimator label */\n",
       "\n",
       "#sk-container-id-2 div.sk-label label {\n",
       "  font-family: monospace;\n",
       "  font-weight: bold;\n",
       "  display: inline-block;\n",
       "  line-height: 1.2em;\n",
       "}\n",
       "\n",
       "#sk-container-id-2 div.sk-label-container {\n",
       "  text-align: center;\n",
       "}\n",
       "\n",
       "/* Estimator-specific */\n",
       "#sk-container-id-2 div.sk-estimator {\n",
       "  font-family: monospace;\n",
       "  border: 1px dotted var(--sklearn-color-border-box);\n",
       "  border-radius: 0.25em;\n",
       "  box-sizing: border-box;\n",
       "  margin-bottom: 0.5em;\n",
       "  /* unfitted */\n",
       "  background-color: var(--sklearn-color-unfitted-level-0);\n",
       "}\n",
       "\n",
       "#sk-container-id-2 div.sk-estimator.fitted {\n",
       "  /* fitted */\n",
       "  background-color: var(--sklearn-color-fitted-level-0);\n",
       "}\n",
       "\n",
       "/* on hover */\n",
       "#sk-container-id-2 div.sk-estimator:hover {\n",
       "  /* unfitted */\n",
       "  background-color: var(--sklearn-color-unfitted-level-2);\n",
       "}\n",
       "\n",
       "#sk-container-id-2 div.sk-estimator.fitted:hover {\n",
       "  /* fitted */\n",
       "  background-color: var(--sklearn-color-fitted-level-2);\n",
       "}\n",
       "\n",
       "/* Specification for estimator info (e.g. \"i\" and \"?\") */\n",
       "\n",
       "/* Common style for \"i\" and \"?\" */\n",
       "\n",
       ".sk-estimator-doc-link,\n",
       "a:link.sk-estimator-doc-link,\n",
       "a:visited.sk-estimator-doc-link {\n",
       "  float: right;\n",
       "  font-size: smaller;\n",
       "  line-height: 1em;\n",
       "  font-family: monospace;\n",
       "  background-color: var(--sklearn-color-background);\n",
       "  border-radius: 1em;\n",
       "  height: 1em;\n",
       "  width: 1em;\n",
       "  text-decoration: none !important;\n",
       "  margin-left: 0.5em;\n",
       "  text-align: center;\n",
       "  /* unfitted */\n",
       "  border: var(--sklearn-color-unfitted-level-1) 1pt solid;\n",
       "  color: var(--sklearn-color-unfitted-level-1);\n",
       "}\n",
       "\n",
       ".sk-estimator-doc-link.fitted,\n",
       "a:link.sk-estimator-doc-link.fitted,\n",
       "a:visited.sk-estimator-doc-link.fitted {\n",
       "  /* fitted */\n",
       "  border: var(--sklearn-color-fitted-level-1) 1pt solid;\n",
       "  color: var(--sklearn-color-fitted-level-1);\n",
       "}\n",
       "\n",
       "/* On hover */\n",
       "div.sk-estimator:hover .sk-estimator-doc-link:hover,\n",
       ".sk-estimator-doc-link:hover,\n",
       "div.sk-label-container:hover .sk-estimator-doc-link:hover,\n",
       ".sk-estimator-doc-link:hover {\n",
       "  /* unfitted */\n",
       "  background-color: var(--sklearn-color-unfitted-level-3);\n",
       "  color: var(--sklearn-color-background);\n",
       "  text-decoration: none;\n",
       "}\n",
       "\n",
       "div.sk-estimator.fitted:hover .sk-estimator-doc-link.fitted:hover,\n",
       ".sk-estimator-doc-link.fitted:hover,\n",
       "div.sk-label-container:hover .sk-estimator-doc-link.fitted:hover,\n",
       ".sk-estimator-doc-link.fitted:hover {\n",
       "  /* fitted */\n",
       "  background-color: var(--sklearn-color-fitted-level-3);\n",
       "  color: var(--sklearn-color-background);\n",
       "  text-decoration: none;\n",
       "}\n",
       "\n",
       "/* Span, style for the box shown on hovering the info icon */\n",
       ".sk-estimator-doc-link span {\n",
       "  display: none;\n",
       "  z-index: 9999;\n",
       "  position: relative;\n",
       "  font-weight: normal;\n",
       "  right: .2ex;\n",
       "  padding: .5ex;\n",
       "  margin: .5ex;\n",
       "  width: min-content;\n",
       "  min-width: 20ex;\n",
       "  max-width: 50ex;\n",
       "  color: var(--sklearn-color-text);\n",
       "  box-shadow: 2pt 2pt 4pt #999;\n",
       "  /* unfitted */\n",
       "  background: var(--sklearn-color-unfitted-level-0);\n",
       "  border: .5pt solid var(--sklearn-color-unfitted-level-3);\n",
       "}\n",
       "\n",
       ".sk-estimator-doc-link.fitted span {\n",
       "  /* fitted */\n",
       "  background: var(--sklearn-color-fitted-level-0);\n",
       "  border: var(--sklearn-color-fitted-level-3);\n",
       "}\n",
       "\n",
       ".sk-estimator-doc-link:hover span {\n",
       "  display: block;\n",
       "}\n",
       "\n",
       "/* \"?\"-specific style due to the `<a>` HTML tag */\n",
       "\n",
       "#sk-container-id-2 a.estimator_doc_link {\n",
       "  float: right;\n",
       "  font-size: 1rem;\n",
       "  line-height: 1em;\n",
       "  font-family: monospace;\n",
       "  background-color: var(--sklearn-color-background);\n",
       "  border-radius: 1rem;\n",
       "  height: 1rem;\n",
       "  width: 1rem;\n",
       "  text-decoration: none;\n",
       "  /* unfitted */\n",
       "  color: var(--sklearn-color-unfitted-level-1);\n",
       "  border: var(--sklearn-color-unfitted-level-1) 1pt solid;\n",
       "}\n",
       "\n",
       "#sk-container-id-2 a.estimator_doc_link.fitted {\n",
       "  /* fitted */\n",
       "  border: var(--sklearn-color-fitted-level-1) 1pt solid;\n",
       "  color: var(--sklearn-color-fitted-level-1);\n",
       "}\n",
       "\n",
       "/* On hover */\n",
       "#sk-container-id-2 a.estimator_doc_link:hover {\n",
       "  /* unfitted */\n",
       "  background-color: var(--sklearn-color-unfitted-level-3);\n",
       "  color: var(--sklearn-color-background);\n",
       "  text-decoration: none;\n",
       "}\n",
       "\n",
       "#sk-container-id-2 a.estimator_doc_link.fitted:hover {\n",
       "  /* fitted */\n",
       "  background-color: var(--sklearn-color-fitted-level-3);\n",
       "}\n",
       "</style><div id=\"sk-container-id-2\" class=\"sk-top-container\"><div class=\"sk-text-repr-fallback\"><pre>GridSearchCV(cv=3, estimator=SVC(), n_jobs=-1,\n",
       "             param_grid={&#x27;C&#x27;: [1.2, 1.5, 2.2, 3.5, 3.2, 4.1],\n",
       "                         &#x27;degree&#x27;: [1, 2, 4, 8, 10], &#x27;gamma&#x27;: [&#x27;scale&#x27;, &#x27;auto&#x27;],\n",
       "                         &#x27;kernel&#x27;: [&#x27;linear&#x27;, &#x27;poly&#x27;, &#x27;rbf&#x27;, &#x27;sigmoid&#x27;]},\n",
       "             verbose=4)</pre><b>In a Jupyter environment, please rerun this cell to show the HTML representation or trust the notebook. <br />On GitHub, the HTML representation is unable to render, please try loading this page with nbviewer.org.</b></div><div class=\"sk-container\" hidden><div class=\"sk-item sk-dashed-wrapped\"><div class=\"sk-label-container\"><div class=\"sk-label fitted sk-toggleable\"><input class=\"sk-toggleable__control sk-hidden--visually\" id=\"sk-estimator-id-4\" type=\"checkbox\" ><label for=\"sk-estimator-id-4\" class=\"sk-toggleable__label fitted sk-toggleable__label-arrow\"><div><div>GridSearchCV</div></div><div><a class=\"sk-estimator-doc-link fitted\" rel=\"noreferrer\" target=\"_blank\" href=\"https://scikit-learn.org/1.6/modules/generated/sklearn.model_selection.GridSearchCV.html\">?<span>Documentation for GridSearchCV</span></a><span class=\"sk-estimator-doc-link fitted\">i<span>Fitted</span></span></div></label><div class=\"sk-toggleable__content fitted\"><pre>GridSearchCV(cv=3, estimator=SVC(), n_jobs=-1,\n",
       "             param_grid={&#x27;C&#x27;: [1.2, 1.5, 2.2, 3.5, 3.2, 4.1],\n",
       "                         &#x27;degree&#x27;: [1, 2, 4, 8, 10], &#x27;gamma&#x27;: [&#x27;scale&#x27;, &#x27;auto&#x27;],\n",
       "                         &#x27;kernel&#x27;: [&#x27;linear&#x27;, &#x27;poly&#x27;, &#x27;rbf&#x27;, &#x27;sigmoid&#x27;]},\n",
       "             verbose=4)</pre></div> </div></div><div class=\"sk-parallel\"><div class=\"sk-parallel-item\"><div class=\"sk-item\"><div class=\"sk-label-container\"><div class=\"sk-label fitted sk-toggleable\"><input class=\"sk-toggleable__control sk-hidden--visually\" id=\"sk-estimator-id-5\" type=\"checkbox\" ><label for=\"sk-estimator-id-5\" class=\"sk-toggleable__label fitted sk-toggleable__label-arrow\"><div><div>best_estimator_: SVC</div></div></label><div class=\"sk-toggleable__content fitted\"><pre>SVC(C=1.2, degree=1, kernel=&#x27;linear&#x27;)</pre></div> </div></div><div class=\"sk-serial\"><div class=\"sk-item\"><div class=\"sk-estimator fitted sk-toggleable\"><input class=\"sk-toggleable__control sk-hidden--visually\" id=\"sk-estimator-id-6\" type=\"checkbox\" ><label for=\"sk-estimator-id-6\" class=\"sk-toggleable__label fitted sk-toggleable__label-arrow\"><div><div>SVC</div></div><div><a class=\"sk-estimator-doc-link fitted\" rel=\"noreferrer\" target=\"_blank\" href=\"https://scikit-learn.org/1.6/modules/generated/sklearn.svm.SVC.html\">?<span>Documentation for SVC</span></a></div></label><div class=\"sk-toggleable__content fitted\"><pre>SVC(C=1.2, degree=1, kernel=&#x27;linear&#x27;)</pre></div> </div></div></div></div></div></div></div></div></div>"
      ],
      "text/plain": [
       "GridSearchCV(cv=3, estimator=SVC(), n_jobs=-1,\n",
       "             param_grid={'C': [1.2, 1.5, 2.2, 3.5, 3.2, 4.1],\n",
       "                         'degree': [1, 2, 4, 8, 10], 'gamma': ['scale', 'auto'],\n",
       "                         'kernel': ['linear', 'poly', 'rbf', 'sigmoid']},\n",
       "             verbose=4)"
      ]
     },
     "execution_count": 28,
     "metadata": {},
     "output_type": "execute_result"
    }
   ],
   "source": [
    "gridsearch.fit(x_tr,y_tr)"
   ]
  },
  {
   "cell_type": "code",
   "execution_count": 29,
   "id": "7a2250b7",
   "metadata": {
    "execution": {
     "iopub.execute_input": "2021-08-18T19:18:06.279375Z",
     "iopub.status.busy": "2021-08-18T19:18:06.278419Z",
     "iopub.status.idle": "2021-08-18T19:18:06.281931Z",
     "shell.execute_reply": "2021-08-18T19:18:06.282324Z",
     "shell.execute_reply.started": "2021-08-15T10:18:29.526192Z"
    },
    "papermill": {
     "duration": 0.045917,
     "end_time": "2021-08-18T19:18:06.282486",
     "exception": false,
     "start_time": "2021-08-18T19:18:06.236569",
     "status": "completed"
    },
    "tags": []
   },
   "outputs": [
    {
     "data": {
      "text/plain": [
       "{'C': 1.2, 'degree': 1, 'gamma': 'scale', 'kernel': 'linear'}"
      ]
     },
     "execution_count": 29,
     "metadata": {},
     "output_type": "execute_result"
    }
   ],
   "source": [
    "gridsearch.best_params_"
   ]
  },
  {
   "cell_type": "code",
   "execution_count": 30,
   "id": "8fb7682a",
   "metadata": {
    "execution": {
     "iopub.execute_input": "2021-08-18T19:18:06.433177Z",
     "iopub.status.busy": "2021-08-18T19:18:06.432346Z",
     "iopub.status.idle": "2021-08-18T19:18:06.436120Z",
     "shell.execute_reply": "2021-08-18T19:18:06.436711Z",
     "shell.execute_reply.started": "2021-08-15T10:18:29.533617Z"
    },
    "papermill": {
     "duration": 0.047554,
     "end_time": "2021-08-18T19:18:06.436923",
     "exception": false,
     "start_time": "2021-08-18T19:18:06.389369",
     "status": "completed"
    },
    "tags": []
   },
   "outputs": [
    {
     "name": "stdout",
     "output_type": "stream",
     "text": [
      "[[617   0]\n",
      " [  0 366]]\n"
     ]
    }
   ],
   "source": [
    "predicted_y=gridsearch.predict(x_te)\n",
    "from sklearn.metrics import confusion_matrix\n",
    "print(confusion_matrix(y_te,predicted_y))"
   ]
  },
  {
   "cell_type": "code",
   "execution_count": 31,
   "id": "80102da1",
   "metadata": {
    "execution": {
     "iopub.execute_input": "2021-08-18T19:18:06.584192Z",
     "iopub.status.busy": "2021-08-18T19:18:06.583519Z",
     "iopub.status.idle": "2021-08-18T19:18:06.589378Z",
     "shell.execute_reply": "2021-08-18T19:18:06.588791Z",
     "shell.execute_reply.started": "2021-08-15T10:18:29.55085Z"
    },
    "papermill": {
     "duration": 0.046238,
     "end_time": "2021-08-18T19:18:06.589525",
     "exception": false,
     "start_time": "2021-08-18T19:18:06.543287",
     "status": "completed"
    },
    "tags": []
   },
   "outputs": [
    {
     "data": {
      "text/plain": [
       "1.0"
      ]
     },
     "execution_count": 31,
     "metadata": {},
     "output_type": "execute_result"
    }
   ],
   "source": [
    "from sklearn.metrics import accuracy_score\n",
    "accuracy_score(y_te,predicted_y)"
   ]
  }
 ],
 "metadata": {
  "kernelspec": {
   "display_name": "Python 3",
   "language": "python",
   "name": "python3"
  },
  "language_info": {
   "codemirror_mode": {
    "name": "ipython",
    "version": 3
   },
   "file_extension": ".py",
   "mimetype": "text/x-python",
   "name": "python",
   "nbconvert_exporter": "python",
   "pygments_lexer": "ipython3",
   "version": "3.13.2"
  },
  "papermill": {
   "default_parameters": {},
   "duration": 69.799738,
   "end_time": "2021-08-18T19:18:08.006581",
   "environment_variables": {},
   "exception": null,
   "input_path": "__notebook__.ipynb",
   "output_path": "__notebook__.ipynb",
   "parameters": {},
   "start_time": "2021-08-18T19:16:58.206843",
   "version": "2.3.3"
  }
 },
 "nbformat": 4,
 "nbformat_minor": 5
}
